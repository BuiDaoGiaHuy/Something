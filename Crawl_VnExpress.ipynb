{
 "cells": [
  {
   "cell_type": "code",
   "execution_count": null,
   "metadata": {},
   "outputs": [],
   "source": [
    "import bs4\n",
    "import csv\n",
    "import pandas as pd\n",
    "import requests\n",
    "\n",
    "def get_page_content(url):\n",
    "   page = requests.get(url,headers={\"Accept-Language\":\"en-US\"})\n",
    "   return bs4.BeautifulSoup(page.text,\"html.parser\")\n",
    "\n",
    "def get_title_time(url):\n",
    "    soup=get_page_content(url)\n",
    "    title=soup.find('h1', class_=\"title-detail\").text \n",
    "    time=soup.find('span' ,class_=\"date\").text\n",
    "    return title, time\n",
    "\n",
    "def get_month_day(t):\n",
    "    day=t[t.index(',')+2: t.index('/')]\n",
    "    month=t[t.index('/')+1:t.rindex('/')]\n",
    "    return int(month), int(day)\n",
    "\n",
    "title=[]\n",
    "time=[]\n",
    "D=19\n",
    "M=8\n",
    "i=1\n",
    "url = 'https://vnexpress.net/thoi-su' \n",
    "soup = get_page_content(url)\n",
    "\n",
    "while 1:\n",
    "    print('page:', i, 'start:', len(time))\n",
    "    articles=[sub.find('a')['href'] for sub in soup.findAll('h3', class_=\"title-news\")]\n",
    "    for a in articles:\n",
    "        ttl, tm=get_title_time(a)\n",
    "        title.append(ttl)\n",
    "        time.append(tm)\n",
    "    if get_month_day(time[-1])<(M,D): break\n",
    "    i+=1\n",
    "    url_n=url+'-p{}'.format(i)\n",
    "    soup = get_page_content(url_n)\n",
    "    \n",
    "while get_month_day(time[-1])<(M,D):\n",
    "    title.pop()\n",
    "    time.pop()\n",
    "\n",
    "data=pd.DataFrame()\n",
    "data['title']=title\n",
    "data['time']=time\n",
    "data.to_csv('C:/Users/HELLO/Desktop/crawl.csv')\n",
    "\n",
    "\n",
    "\n",
    " \n"
   ]
  }
 ],
 "metadata": {
  "kernelspec": {
   "display_name": "Python 3",
   "language": "python",
   "name": "python3"
  },
  "language_info": {
   "codemirror_mode": {
    "name": "ipython",
    "version": 3
   },
   "file_extension": ".py",
   "mimetype": "text/x-python",
   "name": "python",
   "nbconvert_exporter": "python",
   "pygments_lexer": "ipython3",
   "version": "3.7.9"
  }
 },
 "nbformat": 4,
 "nbformat_minor": 4
}
